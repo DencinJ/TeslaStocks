pip install yfinance beautifulsoup4 requests matplotlib pandas
import yfinance as yf

# Descargar datos históricos de las acciones de Tesla
tesla_stock = yf.Ticker("TSLA")
tesla_data = tesla_stock.history(period="1y")  # Datos del último año

# Mostrar las primeras filas de los datos
tesla_data.head()
