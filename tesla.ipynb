# --- Sección 1: Importación de Librerías ---
import yfinance as yf
import requests
from bs4 import BeautifulSoup
import pandas as pd
import matplotlib.pyplot as plt
import seaborn as sns

# Configuración para mostrar los gráficos dentro del notebook
%matplotlib inline

# --- Sección 2: Pregunta 1 - Extracción de datos de acciones de Tesla ---
# ... (Código para la Pregunta 1)
# --- Sección 2: Pregunta 1 - Extracción de datos de acciones de Tesla ---
import yfinance as yf

# Define el ticker de Tesla
ticker_tesla = "TSLA"

# Obtiene el objeto de la acción de Tesla
tesla = yf.Ticker(ticker_tesla)

# Descarga los datos históricos (por ejemplo, del último año)
hist_tesla = tesla.history(period="1y")

# Muestra las primeras filas del DataFrame
print("Datos históricos de acciones de Tesla:")
print(hist_tesla.head())

# (Captura de pantalla de la salida)

# --- Sección 3: Pregunta 2 - Extracción de datos de ingresos de Tesla ---
# ... (Código para la Pregunta 2)
# --- Sección 3: Pregunta 2 - Extracción de datos de ingresos de Tesla ---
import requests
from bs4 import BeautifulSoup
import pandas as pd

# Define la URL de la página con los ingresos de Tesla (ejemplo, debes encontrar una fuente)
url_ingresos_tesla = "https://es.finance.yahoo.com/quote/TSLA/financials?p=TSLA" # Ejemplo, revisa la estructura

try:
    # Realiza la solicitud HTTP
    response = requests.get(url_ingresos_tesla)
    response.raise_for_status()  # Verifica si la solicitud fue exitosa

    # Analiza el contenido HTML
    soup = BeautifulSoup(response.content, 'html.parser')

    # Busca la tabla de ingresos (ajusta los selectores según la página)
    tabla_ingresos = soup.find('table', {'data-test': 'financials'}) # Ejemplo de selector, puede variar

    if tabla_ingresos:
        # Extrae los datos de la tabla (esto requerirá más inspección de la estructura HTML)
        # Ejemplo:
        # filas = tabla_ingresos.find_all('tr')
        # ingresos_data = []
        # for fila in filas:
        #     celdas = fila.find_all('td')
        #     if len(celdas) > 0:
        #         # Extrae los datos de las celdas
        #         ingresos_data.append([celda.get_text() for celda in celdas])
        #
        # df_ingresos_tesla = pd.DataFrame(ingresos_data)
        # print("\nDatos de ingresos de Tesla (ejemplo):")
        # print(df_ingresos_tesla)
        print("\nPor favor, ajusta el código de web scraping para extraer los datos de ingresos de la fuente correcta.")
    else:
        print("\nNo se encontró la tabla de ingresos en la página.")

except requests.exceptions.RequestException as e:
    print(f"\nError al obtener la página web: {e}")
except Exception as e:
    print(f"\nOcurrió un error durante el web scraping: {e}")

# (Captura de pantalla de la salida o del código de web scraping)

# --- Sección 4: Pregunta 3 - Extracción de datos de acciones de GameStop ---
# ... (Código para la Pregunta 3)
# --- Sección 4: Pregunta 3 - Extracción de datos de acciones de GameStop ---
import yfinance as yf

# Define el ticker de GameStop
ticker_gamestop = "GME"

# Obtiene el objeto de la acción de GameStop
gamestop = yf.Ticker(ticker_gamestop)

# Descarga los datos históricos (por ejemplo, del último año)
hist_gamestop = gamestop.history(period="1y")

# Muestra las primeras filas del DataFrame
print("\nDatos históricos de acciones de GameStop:")
print(hist_gamestop.head())

# (Captura de pantalla de la salida)

# --- Sección 5: Pregunta 4 - Extracción de datos de ingresos de GameStop ---
# ... (Código para la Pregunta 4)
# --- Sección 5: Pregunta 4 - Extracción de datos de ingresos de GameStop ---
import requests
from bs4 import BeautifulSoup
import pandas as pd

# Define la URL de la página con los ingresos de GameStop (ejemplo, debes encontrar una fuente)
url_ingresos_gamestop = "https://es.finance.yahoo.com/quote/GME/financials?p=GME" # Ejemplo, revisa la estructura

try:
    # Realiza la solicitud HTTP
    response = requests.get(url_ingresos_gamestop)
    response.raise_for_status()  # Verifica si la solicitud fue exitosa

    # Analiza el contenido HTML
    soup = BeautifulSoup(response.content, 'html.parser')

    # Busca la tabla de ingresos (ajusta los selectores según la página)
    tabla_ingresos = soup.find('table', {'data-test': 'financials'}) # Ejemplo de selector, puede variar

    if tabla_ingresos:
        # Extrae los datos de la tabla (esto requerirá más inspección de la estructura HTML)
        # (Similar al ejemplo de la Pregunta 2, adapta para GameStop)
        print("\nPor favor, ajusta el código de web scraping para extraer los datos de ingresos de la fuente correcta para GameStop.")
    else:
        print("\nNo se encontró la tabla de ingresos en la página.")

except requests.exceptions.RequestException as e:
    print(f"\nError al obtener la página web: {e}")
except Exception as e:
    print(f"\nOcurrió un error durante el web scraping: {e}")

# (Captura de pantalla de la salida o del código de web scraping)

# --- Sección 6: Pregunta 5 - Tablero de acciones e ingresos de Tesla ---
# ... (Código para la Pregunta 5)
# --- Sección 6: Pregunta 5 - Tablero de acciones e ingresos de Tesla ---
import matplotlib.pyplot as plt
import seaborn as sns

# Asegúrate de tener los DataFrames hist_tesla y df_ingresos_tesla (si se extrajeron correctamente)

# Visualización del precio de cierre de las acciones de Tesla
plt.figure(figsize=(10, 6))
plt.plot(hist_tesla['Close'], label='Precio de Cierre (Tesla)')
plt.title('Precio de Cierre de las Acciones de Tesla')
plt.xlabel('Fecha')
plt.ylabel('Precio')
plt.legend()
plt.grid(True)
plt.show()

# Ejemplo de visualización de ingresos (ajusta según tus datos de ingresos)
# if 'df_ingresos_tesla' in locals():
#     plt.figure(figsize=(8, 5))
#     # Ajusta cómo graficar los ingresos según la estructura de tu DataFrame
#     # Ejemplo: plt.bar(df_ingresos_tesla['Año'], df_ingresos_tesla['Ingresos'], label='Ingresos')
#     plt.title('Ingresos de Tesla')
#     plt.xlabel('Año')
#     plt.ylabel('Ingresos')
#     plt.legend()
#     plt.grid(True)
#     plt.show()
# else:
#     print("\nNo se encontraron datos de ingresos de Tesla para visualizar.")

# (Captura de pantalla del gráfico de acciones y, si se implementó, del gráfico de ingresos)

# --- Sección 7: Pregunta 6 - Cuadro de mando de acciones e ingresos de GameStop ---
# ... (Código para la Pregunta 6)
# --- Sección 7: Pregunta 6 - Cuadro de mando de acciones e ingresos de GameStop ---
import matplotlib.pyplot as plt
import seaborn as sns

# Asegúrate de tener los DataFrames hist_gamestop y df_ingresos_gamestop (si se extrajeron correctamente)

# Visualización del precio de cierre de las acciones de GameStop
plt.figure(figsize=(10, 6))
plt.plot(hist_gamestop['Close'], label='Precio de Cierre (GameStop)')
plt.title('Precio de Cierre de las Acciones de GameStop')
plt.xlabel('Fecha')
plt.ylabel('Precio')
plt.legend()
plt.grid(True)
plt.show()

# Ejemplo de visualización de ingresos (ajusta según tus datos de ingresos)
# if 'df_ingresos_gamestop' in locals():
#     plt.figure(figsize=(8, 5))
#     # Ajusta cómo graficar los ingresos según la estructura de tu DataFrame
#     # Ejemplo: plt.bar(df_ingresos_gamestop['Año'], df_ingresos_gamestop['Ingresos'], label='Ingresos')
#     plt.title('Ingresos de GameStop')
#     plt.xlabel('Año')
#     plt.ylabel('Ingresos')
#     plt.legend()
#     plt.grid(True)
#     plt.show()
# else:
#     print("\nNo se encontraron datos de ingresos de GameStop para visualizar.")

# (Captura de pantalla del gráfico de acciones y, si se implementó, del gráfico de ingresos)

# --- Sección 8: Pregunta 7 - Compartir su cuaderno de tareas ---
# ... (Instrucciones sobre cómo guardar y compartir el notebook)
# --- Sección 8: Pregunta 7 - Compartir su cuaderno de tareas ---
print("\nGuarda tu cuaderno de Jupyter Notebook (.ipynb).")
print("Opcionalmente, puedes exportarlo a PDF o HTML para facilitar la visualización.")
print("Sigue las instrucciones de tu profesor para la entrega de este archivo.")
